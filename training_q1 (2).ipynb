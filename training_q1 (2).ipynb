{
 "cells": [
  {
   "cell_type": "code",
   "execution_count": 1,
   "id": "5e116cbd-e9f0-4c31-9633-0d0a598aa8d5",
   "metadata": {
    "tags": []
   },
   "outputs": [],
   "source": [
    "import numpy as np\n",
    "import numpy.random as npr\n",
    "import matplotlib.pyplot as plt\n",
    "\n",
    "import tensorflow as tf\n",
    "from tensorflow import keras\n",
    "from keras.wrappers.scikit_learn import KerasClassifier\n",
    "import keras_tuner as kt\n",
    "from tensorflow.keras import layers, models, optimizers\n",
    "from sklearn.model_selection import train_test_split\n",
    "from sklearn.metrics import classification_report, f1_score\n",
    "from tensorflow.keras.callbacks import EarlyStopping, ModelCheckpoint\n",
    "\n",
    "%matplotlib inline\n",
    "plt.style.use('bmh')"
   ]
  },
  {
   "cell_type": "code",
   "execution_count": 2,
   "id": "83093212-16f7-4e8a-bb35-fc1c2678bc0d",
   "metadata": {
    "tags": []
   },
   "outputs": [
    {
     "name": "stdout",
     "output_type": "stream",
     "text": [
      "(1658, 270000) (1658,)\n"
     ]
    }
   ],
   "source": [
    "class_names = ['Roses', 'Magnolias', 'Lilies', 'Sunflowers', 'Orchids', \n",
    "               'Marigold', 'Hibiscus', 'Firebush', 'Pentas', 'Bougainvillea']\n",
    "X_train = np.load('flower_species_classification/data_train.npy').T\n",
    "t_train = np.load('flower_species_classification/labels_train.npy')\n",
    "\n",
    "print(X_train.shape, t_train.shape)"
   ]
  },
  {
   "cell_type": "code",
   "execution_count": 3,
   "id": "e9f8a6d6-9c8b-4894-b23f-a0eab610e3e2",
   "metadata": {
    "tags": []
   },
   "outputs": [
    {
     "data": {
      "image/png": "[encoded data removed]",
      "text/plain": [
       "<Figure size 432x288 with 1 Axes>"
      ]
     },
     "metadata": {
      "needs_background": "light"
     },
     "output_type": "display_data"
    }
   ],
   "source": [
    "vals, counts = np.unique(t_train, return_counts=True)\n",
    "\n",
    "plt.bar(vals, counts)\n",
    "plt.xticks(range(10),range(10))\n",
    "plt.xlabel('Classes',size=20)\n",
    "plt.ylabel('# Samples per Class', size=20)\n",
    "plt.title('Training Data (Total = '+str(X_train.shape[1])+' samples)',size=15);"
   ]
  },
  {
   "cell_type": "code",
   "execution_count": 4,
   "id": "d96ab435-f615-47c6-933f-570499c9ce17",
   "metadata": {
    "tags": []
   },
   "outputs": [],
   "source": [
    "X_train, X_val, t_train, t_val = train_test_split(X_train, t_train, test_size=0.2, stratify=t_train, shuffle=True)"
   ]
  },
  {
   "cell_type": "code",
   "execution_count": 5,
   "id": "cb3e25a7-375c-48a8-a81d-d0fb79f05dc5",
   "metadata": {
    "tags": []
   },
   "outputs": [
    {
     "name": "stderr",
     "output_type": "stream",
     "text": [
      "2024-12-04 18:20:43.373350: I tensorflow/core/platform/cpu_feature_guard.cc:151] This TensorFlow binary is optimized with oneAPI Deep Neural Network Library (oneDNN) to use the following CPU instructions in performance-critical operations:  SSE4.1 SSE4.2 AVX AVX2 FMA\n",
      "To enable them in other operations, rebuild TensorFlow with the appropriate compiler flags.\n",
      "2024-12-04 18:20:44.746806: I tensorflow/core/common_runtime/gpu/gpu_device.cc:1525] Created device /job:localhost/replica:0/task:0/device:GPU:0 with 78902 MB memory:  -> device: 0, name: NVIDIA A100-SXM4-80GB, pci bus id: 0000:47:00.0, compute capability: 8.0\n",
      "2024-12-04 18:20:44.748503: I tensorflow/core/common_runtime/gpu/gpu_device.cc:1525] Created device /job:localhost/replica:0/task:0/device:GPU:1 with 78902 MB memory:  -> device: 1, name: NVIDIA A100-SXM4-80GB, pci bus id: 0000:4e:00.0, compute capability: 8.0\n"
     ]
    }
   ],
   "source": [
    "X_train_rs = tf.constant(X_train.reshape((X_train.shape[0],300,300,3))/255, dtype=tf.float32)\n",
    "X_val_rs = tf.constant(X_val.reshape((X_val.shape[0],300,300,3))/255, dtype=tf.float32)"
   ]
  },
  {
   "cell_type": "code",
   "execution_count": 6,
   "id": "3910b900-1d8c-4588-a717-b6811fb3a5c8",
   "metadata": {
    "tags": []
   },
   "outputs": [],
   "source": [
    "def build_model(hp):\n",
    "    model = models.Sequential()\n",
    "    \n",
    "    # Single Convolutional Layer with hyperparameters\n",
    "    model.add(layers.Conv2D(\n",
    "        filters=hp.Choice('filters', values=[32, 64]),  # Corrected hyperparameter name\n",
    "        kernel_size=hp.Choice('kernel_size', values=[3, 5]),  # Corrected hyperparameter name\n",
    "        activation='relu',\n",
    "        input_shape=(300, 300, 3)\n",
    "    ))\n",
    "    model.add(layers.MaxPooling2D((2, 2)))\n",
    "\n",
    "    model.add(layers.Flatten())\n",
    "\n",
    "    # Single Dense Layer with hyperparameters\n",
    "    model.add(layers.Dense(\n",
    "        units=hp.Choice('dense_units', values=[128, 256]),  # Corrected hyperparameter name\n",
    "        activation='relu'\n",
    "    ))\n",
    "\n",
    "    model.add(layers.Dense(10, activation='softmax'))  # Output layer with 10 classes\n",
    "\n",
    "    # Compile the model with a tunable learning rate\n",
    "    model.compile(\n",
    "        optimizer=optimizers.Adam(\n",
    "            learning_rate=hp.Choice('learning_rate', values=[1e-3, 1e-4])  # Corrected hyperparameter name\n",
    "        ),\n",
    "        loss='sparse_categorical_crossentropy',\n",
    "        metrics=['accuracy']\n",
    "    )\n",
    "    \n",
    "    return model\n"
   ]
  },
  {
   "cell_type": "code",
   "execution_count": 7,
   "id": "da7226fa-74b1-4033-b5ca-1db2b4837186",
   "metadata": {
    "tags": []
   },
   "outputs": [
    {
     "name": "stdout",
     "output_type": "stream",
     "text": [
      "INFO:tensorflow:Reloading Oracle from existing project flower_tuning/flower_species/oracle.json\n",
      "INFO:tensorflow:Reloading Tuner from flower_tuning/flower_species/tuner0.json\n",
      "INFO:tensorflow:Oracle triggered exit\n",
      "\n",
      "filters for convolutional layer: 64\n",
      "kernel size for convolutional layer: 3\n",
      "dense units: 256\n",
      "learning rate: 0.0001\n",
      "\n"
     ]
    }
   ],
   "source": [
    "# Set up Keras Tuner for the simplified model\n",
    "tuner = kt.RandomSearch(\n",
    "    build_model,\n",
    "    objective='val_accuracy',\n",
    "    max_trials=10,  # Number of hyperparameter configurations to try\n",
    "    executions_per_trial=1,\n",
    "    directory='flower_tuning',\n",
    "    project_name='flower_species'\n",
    ")\n",
    "\n",
    "# Early stopping to prevent overfitting\n",
    "stop_early = EarlyStopping(monitor='val_loss', patience=3)\n",
    "\n",
    "# Perform the hyperparameter search\n",
    "tuner.search(\n",
    "    X_train_rs, t_train,\n",
    "    epochs=10,\n",
    "    validation_data=(X_val_rs, t_val),\n",
    "    callbacks=[stop_early]\n",
    ")\n",
    "\n",
    "# Retrieve the best hyperparameters found\n",
    "best_hps = tuner.get_best_hyperparameters(num_trials=1)[0]\n",
    "\n",
    "# Print the best hyperparameters\n",
    "print(f\"\"\"\n",
    "filters for convolutional layer: {best_hps.get('filters')}\n",
    "kernel size for convolutional layer: {best_hps.get('kernel_size')}\n",
    "dense units: {best_hps.get('dense_units')}\n",
    "learning rate: {best_hps.get('learning_rate')}\n",
    "\"\"\")\n"
   ]
  },
  {
   "cell_type": "code",
   "execution_count": 8,
   "id": "2402ff6c-ffa3-4592-af2f-608f30c060fa",
   "metadata": {
    "tags": []
   },
   "outputs": [
    {
     "name": "stdout",
     "output_type": "stream",
     "text": [
      "Epoch 1/20\n"
     ]
    },
    {
     "name": "stderr",
     "output_type": "stream",
     "text": [
      "2024-12-04 18:20:48.355343: I tensorflow/stream_executor/cuda/cuda_dnn.cc:366] Loaded cuDNN version 8201\n",
      "2024-12-04 18:20:49.872234: I tensorflow/stream_executor/cuda/cuda_blas.cc:1774] TensorFloat-32 will be used for the matrix multiplication. This will only be logged once.\n"
     ]
    },
    {
     "name": "stdout",
     "output_type": "stream",
     "text": [
      "42/42 [==============================] - 4s 38ms/step - loss: 5.0816 - accuracy: 0.2677 - val_loss: 1.6488 - val_accuracy: 0.4127\n",
      "Epoch 2/20\n",
      "42/42 [==============================] - 1s 31ms/step - loss: 1.3403 - accuracy: 0.5302 - val_loss: 1.2853 - val_accuracy: 0.5572\n",
      "Epoch 3/20\n",
      "42/42 [==============================] - 1s 31ms/step - loss: 0.8351 - accuracy: 0.7504 - val_loss: 1.0651 - val_accuracy: 0.6446\n",
      "Epoch 4/20\n",
      "42/42 [==============================] - 1s 31ms/step - loss: 0.4675 - accuracy: 0.8801 - val_loss: 0.8961 - val_accuracy: 0.6777\n",
      "Epoch 5/20\n",
      "42/42 [==============================] - 1s 32ms/step - loss: 0.2347 - accuracy: 0.9630 - val_loss: 0.8846 - val_accuracy: 0.6777\n",
      "Epoch 6/20\n",
      "42/42 [==============================] - 1s 30ms/step - loss: 0.1289 - accuracy: 0.9887 - val_loss: 0.8197 - val_accuracy: 0.7199\n",
      "Epoch 7/20\n",
      "42/42 [==============================] - 1s 30ms/step - loss: 0.0727 - accuracy: 0.9992 - val_loss: 0.8094 - val_accuracy: 0.7108\n",
      "Epoch 8/20\n",
      "42/42 [==============================] - 1s 31ms/step - loss: 0.0456 - accuracy: 1.0000 - val_loss: 0.7725 - val_accuracy: 0.7259\n",
      "Epoch 9/20\n",
      "42/42 [==============================] - 1s 30ms/step - loss: 0.0293 - accuracy: 1.0000 - val_loss: 0.7782 - val_accuracy: 0.7018\n",
      "Epoch 10/20\n",
      "42/42 [==============================] - 1s 31ms/step - loss: 0.0228 - accuracy: 1.0000 - val_loss: 0.7526 - val_accuracy: 0.7349\n",
      "Epoch 11/20\n",
      "42/42 [==============================] - 1s 31ms/step - loss: 0.0170 - accuracy: 1.0000 - val_loss: 0.7552 - val_accuracy: 0.7319\n",
      "Epoch 12/20\n",
      "42/42 [==============================] - 1s 30ms/step - loss: 0.0135 - accuracy: 1.0000 - val_loss: 0.7596 - val_accuracy: 0.7289\n",
      "Epoch 13/20\n",
      "42/42 [==============================] - 1s 31ms/step - loss: 0.0111 - accuracy: 1.0000 - val_loss: 0.7571 - val_accuracy: 0.7259\n",
      "42/42 [==============================] - 0s 11ms/step - loss: 0.0095 - accuracy: 1.0000\n",
      "Training Accuracy: 1.00\n",
      "11/11 [==============================] - 0s 10ms/step - loss: 0.7571 - accuracy: 0.7259\n",
      "Validation Accuracy: 0.73\n"
     ]
    }
   ],
   "source": [
    "best_model = tuner.hypermodel.build(best_hps)\n",
    "\n",
    "history = best_model.fit(\n",
    "    X_train_rs, t_train,\n",
    "    epochs=20,\n",
    "    validation_data=(X_val_rs, t_val),\n",
    "    callbacks=[stop_early]\n",
    ")\n",
    "\n",
    "train_loss, train_accuracy = best_model.evaluate(X_train_rs, t_train)\n",
    "print(f\"Training Accuracy: {train_accuracy:.2f}\")\n",
    "\n",
    "val_loss, val_accuracy = best_model.evaluate(X_val_rs, t_val)\n",
    "print(f\"Validation Accuracy: {val_accuracy:.2f}\")"
   ]
  },
  {
   "cell_type": "code",
   "execution_count": 9,
   "id": "546b4056-5c7d-4beb-9d62-cbd56c07e547",
   "metadata": {
    "tags": []
   },
   "outputs": [
    {
     "name": "stdout",
     "output_type": "stream",
     "text": [
      "\n",
      "Classification Report on Training Data:\n",
      "               precision    recall  f1-score   support\n",
      "\n",
      "        Roses       1.00      1.00      1.00       141\n",
      "    Magnolias       1.00      1.00      1.00       144\n",
      "       Lilies       1.00      1.00      1.00       164\n",
      "   Sunflowers       1.00      1.00      1.00       112\n",
      "      Orchids       1.00      1.00      1.00       138\n",
      "     Marigold       1.00      1.00      1.00       125\n",
      "     Hibiscus       1.00      1.00      1.00       128\n",
      "     Firebush       1.00      1.00      1.00       138\n",
      "       Pentas       1.00      1.00      1.00       130\n",
      "Bougainvillea       1.00      1.00      1.00       106\n",
      "\n",
      "     accuracy                           1.00      1326\n",
      "    macro avg       1.00      1.00      1.00      1326\n",
      " weighted avg       1.00      1.00      1.00      1326\n",
      "\n",
      "\n",
      "Classification Report on Validation Data:\n",
      "               precision    recall  f1-score   support\n",
      "\n",
      "        Roses       0.69      0.56      0.62        36\n",
      "    Magnolias       0.76      0.94      0.84        36\n",
      "       Lilies       0.60      0.44      0.51        41\n",
      "   Sunflowers       0.89      0.86      0.87        28\n",
      "      Orchids       0.84      0.77      0.81        35\n",
      "     Marigold       0.83      0.77      0.80        31\n",
      "     Hibiscus       0.56      0.78      0.65        32\n",
      "     Firebush       0.75      0.88      0.81        34\n",
      "       Pentas       0.76      0.59      0.67        32\n",
      "Bougainvillea       0.67      0.74      0.70        27\n",
      "\n",
      "     accuracy                           0.73       332\n",
      "    macro avg       0.73      0.73      0.73       332\n",
      " weighted avg       0.73      0.73      0.72       332\n",
      "\n"
     ]
    }
   ],
   "source": [
    "train_predictions = tf.argmax(best_model.predict(X_train_rs), axis=1).numpy()\n",
    "val_predictions = tf.argmax(best_model.predict(X_val_rs), axis=1).numpy()\n",
    "\n",
    "print(\"\\nClassification Report on Training Data:\")\n",
    "print(classification_report(t_train, train_predictions, target_names=class_names))\n",
    "\n",
    "print(\"\\nClassification Report on Validation Data:\")\n",
    "print(classification_report(t_val, val_predictions, target_names=class_names))"
   ]
  },
  {
   "cell_type": "code",
   "execution_count": 10,
   "id": "c4c7f574-9f5c-4cad-ae25-b5cbcc9c9ad9",
   "metadata": {
    "tags": []
   },
   "outputs": [
    {
     "data": {
      "image/png": "[encoded data removed]",
      "text/plain": [
       "<Figure size 864x432 with 1 Axes>"
      ]
     },
     "metadata": {
      "needs_background": "light"
     },
     "output_type": "display_data"
    }
   ],
   "source": [
    "plt.figure(figsize=(12, 6))\n",
    "plt.plot(history.history['accuracy'], label='Training Accuracy')\n",
    "plt.plot(history.history['val_accuracy'], label='Validation Accuracy')\n",
    "plt.plot(history.history['loss'], label='Training Loss')\n",
    "plt.plot(history.history['val_loss'], label='Validation Loss')\n",
    "plt.legend()\n",
    "plt.title('Learning Curves')\n",
    "plt.xlabel('Epochs')\n",
    "plt.ylabel('Metrics')\n",
    "plt.show()"
   ]
  },
  {
   "cell_type": "code",
   "execution_count": 11,
   "id": "1be756e7-d85c-4f1f-b832-1c2dbce351d5",
   "metadata": {
    "tags": []
   },
   "outputs": [],
   "source": [
    "best_model.save('best_model.keras')"
   ]
  },
  {
   "cell_type": "code",
   "execution_count": null,
   "id": "ed93c290-93f7-413b-b23a-319a43c7a480",
   "metadata": {},
   "outputs": [],
   "source": []
  }
 ],
 "metadata": {
  "kernelspec": {
   "display_name": "Tensorflow-2.7.0",
   "language": "python",
   "name": "tensorflow-2.7.0"
  },
  "language_info": {
   "codemirror_mode": {
    "name": "ipython",
    "version": 3
   },
   "file_extension": ".py",
   "mimetype": "text/x-python",
   "name": "python",
   "nbconvert_exporter": "python",
   "pygments_lexer": "ipython3",
   "version": "3.9.12"
  }
 },
 "nbformat": 4,
 "nbformat_minor": 5
}
