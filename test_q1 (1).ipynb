{
 "cells": [
  {
   "cell_type": "code",
   "execution_count": 1,
   "metadata": {
    "tags": []
   },
   "outputs": [
    {
     "name": "stderr",
     "output_type": "stream",
     "text": [
      "2024-12-04 23:25:04.491262: I tensorflow/core/platform/cpu_feature_guard.cc:210] This TensorFlow binary is optimized to use available CPU instructions in performance-critical operations.\n",
      "To enable the following instructions: SSE4.1 SSE4.2 AVX AVX2 FMA, in other operations, rebuild TensorFlow with the appropriate compiler flags.\n"
     ]
    }
   ],
   "source": [
    "from tensorflow import keras \n",
    "from sklearn.metrics import accuracy_score, confusion_matrix, classification_report\n",
    "from ultralytics import YOLO\n",
    "import cv2\n",
    "import pickle\n",
    "from pathlib import Path\n",
    "import matplotlib.pyplot as plt\n",
    "\n",
    "import numpy as np\n",
    "import os"
   ]
  },
  {
   "cell_type": "code",
   "execution_count": 2,
   "metadata": {
    "tags": []
   },
   "outputs": [
    {
     "name": "stdout",
     "output_type": "stream",
     "text": [
      "File exists: True\n"
     ]
    }
   ],
   "source": [
    "file_path = 'best_model.keras'\n",
    "print(f\"File exists: {os.path.exists(file_path)}\")"
   ]
  },
  {
   "cell_type": "code",
   "execution_count": 3,
   "metadata": {
    "tags": []
   },
   "outputs": [],
   "source": [
    "model = keras.models.load_model('best_model.keras')"
   ]
  },
  {
   "cell_type": "code",
   "execution_count": 4,
   "metadata": {
    "tags": []
   },
   "outputs": [
    {
     "data": {
      "text/plain": [
       "(415, 270000)"
      ]
     },
     "execution_count": 4,
     "metadata": {},
     "output_type": "execute_result"
    }
   ],
   "source": [
    "X_test = np.load(\"./flower_species_classification/data_test.npy\").T/ 255.0\n",
    "t_test = np.load(\"./flower_species_classification/labels_test.npy\")\n",
    "\n",
    "X_test.shape"
   ]
  },
  {
   "cell_type": "code",
   "execution_count": 6,
   "metadata": {
    "tags": []
   },
   "outputs": [
    {
     "name": "stdout",
     "output_type": "stream",
     "text": [
      "\u001b[1m13/13\u001b[0m \u001b[32m━━━━━━━━━━━━━━━━━━━━\u001b[0m\u001b[37m\u001b[0m \u001b[1m136s\u001b[0m 11s/step\n",
      "Accuracy is 0.8506024096385543\n"
     ]
    }
   ],
   "source": [
    "X_test = X_test.reshape((X_test.shape[0], 300, 300, 3))\n",
    "t_pred = model.predict(X_test)\n",
    "\n",
    "t_pred_list = []\n",
    "for i in t_pred:\n",
    "    t_pred_list.append(np.argmax(i))\n",
    "t_pred = np.array(t_pred_list)\n",
    "accuracy = accuracy_score(y_pred=t_pred, y_true=t_test)\n",
    "print(f\"Accuracy is {accuracy}\")"
   ]
  },
  {
   "cell_type": "code",
   "execution_count": null,
   "metadata": {},
   "outputs": [],
   "source": [
    "confusionMatrix = confusion_matrix(y_pred= t_pred, y_true = t_test)\n",
    "print(confusionMatrix)"
   ]
  },
  {
   "cell_type": "code",
   "execution_count": 5,
   "metadata": {},
   "outputs": [
    {
     "name": "stdout",
     "output_type": "stream",
     "text": [
      "[[38  1  0  0  0  0  1  2  1  5]\n",
      " [ 0 42  0  0  1  0  0  0  1  0]\n",
      " [ 2  0 26  0  4  0  2  7  0  5]\n",
      " [ 1  0  0 35  0  0  0  0  0  0]\n",
      " [ 0  0  5  0 37  0  1  0  0  2]\n",
      " [ 6  0  0  0  2 26  0  4  2  0]\n",
      " [ 1  0  0  0  0  0 41  1  0  0]\n",
      " [ 0  0  0  0  2  0  0 35  0  0]\n",
      " [ 0  0  0  0  0  0  0  0 31  1]\n",
      " [ 1  0  0  0  0  0  1  0  0 42]]\n"
     ]
    }
   ],
   "source": [
    "classififcationReport = classification_report(y_pred= t_pred, y_true=t_test)\n",
    "print(classififcationReport)"
   ]
  }
 ],
 "metadata": {
  "kernelspec": {
   "display_name": "art",
   "language": "python",
   "name": "art"
  },
  "language_info": {
   "codemirror_mode": {
    "name": "ipython",
    "version": 3
   },
   "file_extension": ".py",
   "mimetype": "text/x-python",
   "name": "python",
   "nbconvert_exporter": "python",
   "pygments_lexer": "ipython3",
   "version": "3.12.7"
  }
 },
 "nbformat": 4,
 "nbformat_minor": 4
}
